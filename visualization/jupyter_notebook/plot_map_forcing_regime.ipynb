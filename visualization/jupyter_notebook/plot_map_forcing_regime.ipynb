{
 "cells": [
  {
   "cell_type": "code",
   "execution_count": null,
   "metadata": {},
   "outputs": [],
   "source": [
    "import sys\n",
    "import os\n",
    "sys.path.append(os.environ['GOTMWORK_ROOT']+'/tools', )\n",
    "from gotmanalysis import *\n",
    "np.seterr(all='raise')\n",
    "%matplotlib inline"
   ]
  },
  {
   "cell_type": "code",
   "execution_count": null,
   "metadata": {},
   "outputs": [],
   "source": [
    "timetag = '20080701-20080731'\n",
    "casename = 'JRA55-do_Global'\n",
    "forcing_reg_type = 'BG12'\n",
    "tmname = 'KPP-CVMix'\n",
    "update_data = False\n",
    "plot_figure = True\n",
    "apply_mask = True"
   ]
  },
  {
   "cell_type": "code",
   "execution_count": null,
   "metadata": {},
   "outputs": [],
   "source": [
    "# check forcing_reg_type\n",
    "fr_list = ['BG12', 'LF17']\n",
    "if forcing_reg_type not in fr_list:\n",
    "    print('Forcing regime {} not supported. Stop.'.format(forcing_reg_type))"
   ]
  },
  {
   "cell_type": "code",
   "execution_count": null,
   "metadata": {},
   "outputs": [],
   "source": [
    "# check time tag\n",
    "month_labels = ['JAN', 'FEB', 'MAR', 'APR', 'MAY', 'JUN', 'JUL', 'AUG', 'SEP', 'OCT', 'NOV', 'DEC']\n",
    "timetag_list = ['20090101-20090131',\n",
    "                '20090201-20090228',\n",
    "                '20090301-20090331',\n",
    "                '20090401-20090430',\n",
    "                '20090501-20090531',\n",
    "                '20080601-20080630',\n",
    "                '20080701-20080731',\n",
    "                '20080801-20080831',\n",
    "                '20080901-20080930',\n",
    "                '20081001-20081031',\n",
    "                '20081101-20081130',\n",
    "                '20081201-20081231']\n",
    "try:\n",
    "    idx = timetag_list.index(timetag)\n",
    "except ValueError:\n",
    "    print('Time tag {} not supported. Stop.'.format(timetag))\n",
    "    \n",
    "mlabel = month_labels[idx]"
   ]
  },
  {
   "cell_type": "code",
   "execution_count": null,
   "metadata": {},
   "outputs": [],
   "source": [
    "# paths\n",
    "s1data_root = os.environ['GOTMRUN_ROOT']+'/'+casename+'/VR1m_DT600s_'+timetag\n",
    "s2data_root = os.environ['GOTMFIG_ROOT']+'/data/'+casename+'/VR1m_DT600s_'+timetag\n",
    "fig_root = os.environ['GOTMFIG_ROOT']+'/'+casename+'/VR1m_DT600s_'+timetag\n",
    "os.makedirs(s2data_root, exist_ok=True)\n",
    "os.makedirs(fig_root, exist_ok=True)"
   ]
  },
  {
   "cell_type": "code",
   "execution_count": null,
   "metadata": {},
   "outputs": [],
   "source": [
    "# get forcing regime\n",
    "basepath = s1data_root+'/'+tmname\n",
    "s2data_name = s2data_root+'/data_forcing_regime_'+forcing_reg_type+'_'+tmname+'.npz'\n",
    "mask_name = s2data_root+'/mask_'+tmname+'.npz'\n",
    "if update_data or not os.path.isfile(s2data_name):\n",
    "    # update data\n",
    "    print('Updating data...')\n",
    "    loclist = sorted(os.listdir(basepath))\n",
    "    pathlist = [basepath+'/'+x+'/gotm_out_s1.nc' for x in loclist]\n",
    "    godmobj = GOTMOutputDataMap(pathlist)\n",
    "    forcing_regime = np.zeros(godmobj.ncase)\n",
    "    for i in np.arange(godmobj.ncase):\n",
    "        if np.mod(i, 100) == 0:\n",
    "            print('{:6.2f} %'.format(i/godmobj.ncase*100.0))\n",
    "        tmp = GOTMOutputData(godmobj._paths[i], init_time_location=False)\n",
    "        if forcing_reg_type == 'BG12':\n",
    "            forcing_regime[i] = tmp.diag_forcing_regime_BG12()\n",
    "        elif forcing_reg_type == 'LF17':\n",
    "            forcing_regime[i] = tmp.diag_forcing_regime_LF17()\n",
    "\n",
    "    gmobj = GOTMMap(data=forcing_regime, lon=godmobj.lon, lat=godmobj.lat, name='forcing_regime')\n",
    "    if apply_mask:\n",
    "        # read mask\n",
    "        gmobj_mask = GOTMMap().load(mask_name)\n",
    "        # apply mask\n",
    "        gmobj.masked(gmobj_mask)\n",
    "    # save data\n",
    "    gmobj.save(s2data_name)\n",
    "else:\n",
    "    # read data\n",
    "    gmobj = GOTMMap().load(s2data_name)\n",
    "    if apply_mask:\n",
    "        # read mask\n",
    "        gmobj_mask = GOTMMap().load(mask_name)\n",
    "        # apply mask\n",
    "        gmobj.masked(gmobj_mask)\n",
    "        # update data\n",
    "        gmobj.save(s2data_name)"
   ]
  },
  {
   "cell_type": "code",
   "execution_count": null,
   "metadata": {},
   "outputs": [],
   "source": [
    "# plot figure\n",
    "if plot_figure:\n",
    "    # create figure\n",
    "    fig = plt.figure()\n",
    "    fig.set_size_inches(6, 2.2)\n",
    "    # plot\n",
    "    plot_forcing_regime_map(gmobj)\n",
    "    # label\n",
    "    plt.text(40, 55, mlabel, fontsize=14, color='k', fontweight='bold', va='top',\n",
    "            bbox=dict(boxstyle=\"square\",ec='k',fc='w'))\n",
    "    # reduce margin\n",
    "    plt.tight_layout()\n",
    "    # save figure\n",
    "    figname = fig_root+'/fig_forcing_regime_'+forcing_reg_type+'.png'\n",
    "    plt.savefig(figname, dpi = 300)"
   ]
  },
  {
   "cell_type": "code",
   "execution_count": null,
   "metadata": {},
   "outputs": [],
   "source": []
  }
 ],
 "metadata": {
  "kernelspec": {
   "display_name": "Python 3",
   "language": "python",
   "name": "python3"
  },
  "language_info": {
   "codemirror_mode": {
    "name": "ipython",
    "version": 3
   },
   "file_extension": ".py",
   "mimetype": "text/x-python",
   "name": "python",
   "nbconvert_exporter": "python",
   "pygments_lexer": "ipython3",
   "version": "3.6.5"
  }
 },
 "nbformat": 4,
 "nbformat_minor": 2
}
